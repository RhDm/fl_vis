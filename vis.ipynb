{
 "cells": [
  {
   "cell_type": "markdown",
   "metadata": {},
   "source": [
    "# Visualisations of Bayesian predictions\n",
    "<br>\n",
    "\n",
    "## execute: Cell -> Run all"
   ]
  },
  {
   "cell_type": "code",
   "execution_count": null,
   "metadata": {},
   "outputs": [],
   "source": [
    "import numpy as np\n",
    "import pandas as pd\n",
    "\n",
    "from scipy.stats import gaussian_kde\n",
    "import arviz as az\n",
    "\n",
    "from bokeh.plotting import figure, output_file, show, ColumnDataSource\n",
    "from bokeh.models import ColumnDataSource, LinearAxis, Range1d, HoverTool, Legend, Span, Text, Title, Circle, Label\n",
    "from bokeh.io import output_notebook, show\n",
    "output_notebook()\n",
    "\n",
    "import warnings\n",
    "warnings.filterwarnings('ignore')"
   ]
  },
  {
   "cell_type": "code",
   "execution_count": null,
   "metadata": {},
   "outputs": [],
   "source": [
    "full_traces= np.load('traces.npy')\n",
    "\n",
    "full_index=pd.read_csv('db.csv')\n",
    "\n",
    "mask_ = np.mean(full_traces, axis=1)>0.1"
   ]
  },
  {
   "cell_type": "code",
   "execution_count": null,
   "metadata": {},
   "outputs": [],
   "source": [
    "def plot_pdf(vis_index=None, traces=full_traces, threshold_val=0.1, title='Trace pdf', colored_patches=False, x_range_=[-0.1,0.6], smoothness=2000):\n",
    "    '''\n",
    "    defaults:\n",
    "    plot_pdf(vis_index=None, traces=None, threshold_val=0.1, title='Trace pdf', colored_patches=False, x_range_=[-0.1,0.6], smoothness=2000)\n",
    "    '''\n",
    "    trace= traces[vis_index]\n",
    "    dens= gaussian_kde(trace)\n",
    "    x_dim=np.linspace(-1.0,1.5,smoothness)\n",
    "    dens._compute_covariance()\n",
    "    \n",
    "    source = ColumnDataSource(data=dict(\n",
    "        mean =[np.mean(trace)],\n",
    "        y = [0]))\n",
    "    \n",
    "    tooltip = [(\"mean\", \"@mean\")]\n",
    "    p = figure(plot_width=400, plot_height=400, title=title, x_range=(x_range_[0],x_range_[1]), tooltips=tooltip)\n",
    "    if colored_patches and source.data['mean'][0]>=threshold_val:\n",
    "        p.patch(x_dim, dens(x_dim), line_width=2, line_color=\"#ff5300\", color=\"#ff5300\",  alpha=0.6)\n",
    "    else:\n",
    "        p.patch(x_dim, dens(x_dim), line_width=2, line_color=\"#006fa2\", color=\"#006fa2\",  alpha=0.6)\n",
    "    threshold = Span(location=threshold_val,\n",
    "                                  dimension='height', line_color='#ff5300',\n",
    "                                  line_dash='dashed', line_width=2, name='threshold', line_alpha=0.6)\n",
    "    p.add_layout(threshold)\n",
    "    \n",
    "    p.circle('mean', 'y', fill_color=\"#2166ac\", line_color=\"#2166ac\", size=4, fill_alpha=0.6, source=source)\n",
    "    \n",
    "#     p.yaxis.major_tick_line_color = None\n",
    "#     p.yaxis.minor_tick_line_color = None\n",
    "    p.yaxis.major_label_text_font_size = '0pt'\n",
    "    p.yaxis.major_label_text_color = None\n",
    "    p.axis.minor_tick_line_color = None\n",
    "    p.axis.major_tick_line_color = None\n",
    "    p.axis.axis_line_color = None\n",
    "    p.background_fill_color = \"#fafafa\"\n",
    "    show(p)\n",
    "    "
   ]
  },
  {
   "cell_type": "code",
   "execution_count": null,
   "metadata": {},
   "outputs": [],
   "source": [
    "def plot_pdfs_sorted(traces, threshold_val=0.1, display_under_threshold=True, sorted_means=True, ascending=True, title='posterior traces',\n",
    "                     colored_patches=False, x_range_=[-0.1,0.6], smoothness=200,jd_mode=False, size=[800, 1500], line_color=\"#006fa2\",\n",
    "                     line_color_match=\"#ff5300\", y_range_add=2):\n",
    "    '''\n",
    "    defaults:\n",
    "    plot_pdfs_sorted(traces, threshold_val=0.1, display_under_threshold=True, sorted_means=True, ascending=True, title='posterior traces',\n",
    "                     colored_patches=False, x_range_=[-0.1,0.6], smoothness=200,jd_mode=False, size=[800, 1500], line_color=\"#006fa2\",\n",
    "                     line_color_match=\"#ff5300\", y_range_add=2)\n",
    "    '''\n",
    "    trace_means= np.mean(traces, axis=1)    \n",
    "    x_dim=np.linspace(-1.0, 1.5, smoothness)\n",
    "    index=np.arange(0, traces.shape[0])\n",
    "    db_index= full_index['index'].values\n",
    "    db= full_index['db'].values\n",
    "    \n",
    "    if not display_under_threshold:\n",
    "        mask= trace_means>0.1\n",
    "        trace_means= trace_means[mask]\n",
    "        index=index[mask]\n",
    "        db_index= db_index[mask]\n",
    "        db= db[mask]\n",
    "        traces= traces[mask]\n",
    "    \n",
    "    order=np.arange(0, trace_means.shape[0])\n",
    "    if sorted_means and ascending:\n",
    "        order= np.argsort(trace_means)[::-1]\n",
    "    if sorted_means and not ascending:\n",
    "        order= np.argsort(trace_means)\n",
    "\n",
    "    source = ColumnDataSource(data=dict(\n",
    "        target_means = trace_means[order],\n",
    "        display_index= index[order],\n",
    "        db_index= db_index[order],\n",
    "        database= db[order],\n",
    "        index_ =range(trace_means.shape[0])))\n",
    "\n",
    "    p = figure(plot_width=size[0], plot_height=size[1], title=title, y_range=(0-y_range_add, trace_means.shape[0]+y_range_add), x_range=(x_range_[0],x_range_[1]))\n",
    "\n",
    "    for i, order in zip(order, range(traces.shape[0])):\n",
    "        dens= gaussian_kde(traces[i])\n",
    "        dens._compute_covariance()\n",
    "        if colored_patches:\n",
    "            if trace_means[i]>=threshold_val:\n",
    "                p.patch(x_dim, dens(x_dim)+ order, line_width=1, line_color=line_color_match, color=\"#ff5300\", alpha=0.6)\n",
    "                p.line(x_dim, dens(x_dim)+ order, line_width=1, line_color=\"black\", alpha=0.0)\n",
    "            else:\n",
    "                p.patch(x_dim, dens(x_dim)+ order, line_width=1, line_color=line_color, color=\"#006fa2\", alpha=0.6)\n",
    "                p.line(x_dim, dens(x_dim)+ order, line_width=1, line_color=\"black\", alpha=0.0)\n",
    "        else:\n",
    "            if jd_mode:\n",
    "                p.patch(x_dim, dens(x_dim)+ order, line_width=2, line_color=\"white\", color=None, alpha=0.6)\n",
    "            else:\n",
    "                p.patch(x_dim, dens(x_dim)+ order, line_width=1, line_color=line_color, color=\"#006fa2\", alpha=0.6)\n",
    "                p.line(x_dim, dens(x_dim)+ order, line_width=1, line_color=\"black\", alpha=0.0)\n",
    "                \n",
    "    \n",
    "    threshold = Span(location=threshold_val,\n",
    "                                  dimension='height', line_color='#ff5300',\n",
    "                                  line_dash='dashed', line_width=2, name='threshold', line_alpha=0.6)\n",
    "    if not jd_mode:\n",
    "        circles= Circle(x='target_means', y='index_', fill_color=\"#2166ac\", line_color=\"#2166ac\", size=4, fill_alpha=0.6) #, source=source)\n",
    "        circles_r = p.add_glyph(source_or_glyph=source, glyph=circles)\n",
    "        circles_hover = HoverTool(renderers=[circles_r], tooltips = [(\"vis_index\", \"@display_index\"), (\"excel index\", \"@db_index\"), (\"database\", \"@database\")])\n",
    "        p.add_tools(circles_hover)\n",
    "        p.add_layout(threshold)\n",
    "\n",
    "    p.outline_line_color = None\n",
    "    p.background_fill_color = \"#efefef\"\n",
    "    if jd_mode:\n",
    "        p.background_fill_color = \"black\"\n",
    "        p.title.text_color= None\n",
    "        p.add_layout(Title(text=\"UNKNOWN DISTRIBUTIONS\", align=\"center\", text_color=\"white\",text_font_size='20pt'), \"below\")\n",
    "        p.yaxis.major_label_text_color = None\n",
    "        p.xaxis.major_label_text_color = None\n",
    "        p.toolbar_location=None\n",
    "        p.border_fill_color = \"black\"\n",
    "        p.min_border_left = 80\n",
    "        p.min_border_right = 80\n",
    "        p.min_border_top = 80\n",
    "        p.min_border_bottom = 110\n",
    "\n",
    "    p.ygrid.grid_line_color = None\n",
    "    p.xgrid.grid_line_color = \"#dddddd\"\n",
    "#     p.xgrid.ticker = p.xaxis.ticker\n",
    "\n",
    "    p.axis.minor_tick_line_color = None\n",
    "    p.axis.major_tick_line_color = None\n",
    "    p.axis.axis_line_color = None\n",
    "    \n",
    "    p.xgrid.grid_line_color = None\n",
    "    p.ygrid.grid_line_color = None\n",
    "    \n",
    "    show(p)"
   ]
  },
  {
   "cell_type": "markdown",
   "metadata": {},
   "source": [
    "# Posterior traces of all datapoints"
   ]
  },
  {
   "cell_type": "code",
   "execution_count": null,
   "metadata": {},
   "outputs": [],
   "source": [
    "plot_pdfs_sorted(full_traces, threshold_val=0.1, sorted_means=True, ascending=True, colored_patches=False, x_range_=[-0.1,1],\n",
    "                 title='posterior traces', jd_mode=False, line_color=None, line_color_match=None, y_range_add=10)"
   ]
  },
  {
   "cell_type": "markdown",
   "metadata": {},
   "source": [
    "# Posterior traces of actives (only Bayesian model)"
   ]
  },
  {
   "cell_type": "code",
   "execution_count": null,
   "metadata": {},
   "outputs": [],
   "source": [
    "plot_pdfs_sorted(full_traces, threshold_val=0.1, display_under_threshold=False, sorted_means=True, ascending=True, colored_patches=False, x_range_=[-0.1,1],\n",
    "                 title='posterior traces', jd_mode=False, line_color=None, line_color_match=None, y_range_add=1)"
   ]
  },
  {
   "cell_type": "markdown",
   "metadata": {},
   "source": [
    "# Use `vis_index` value to visualise prediction of a single datapoint\n",
    "\n",
    "## e.g.\n",
    "## plot_pdf(vis_index=INDEX HERE, x_range_=[-0.1, 1.2])"
   ]
  },
  {
   "cell_type": "code",
   "execution_count": null,
   "metadata": {},
   "outputs": [],
   "source": [
    "plot_pdf(vis_index= 180, x_range_=[-0.1, 1.2])"
   ]
  },
  {
   "cell_type": "code",
   "execution_count": null,
   "metadata": {},
   "outputs": [],
   "source": [
    "plot_pdf(vis_index= 37, x_range_=[-0.1, 1.2])"
   ]
  },
  {
   "cell_type": "code",
   "execution_count": null,
   "metadata": {},
   "outputs": [],
   "source": [
    "plot_pdf(vis_index= 1347, x_range_=[-0.1, 1.2])"
   ]
  },
  {
   "cell_type": "code",
   "execution_count": null,
   "metadata": {},
   "outputs": [],
   "source": []
  },
  {
   "cell_type": "code",
   "execution_count": null,
   "metadata": {},
   "outputs": [],
   "source": []
  },
  {
   "cell_type": "code",
   "execution_count": null,
   "metadata": {},
   "outputs": [],
   "source": []
  },
  {
   "cell_type": "code",
   "execution_count": null,
   "metadata": {},
   "outputs": [],
   "source": []
  },
  {
   "cell_type": "code",
   "execution_count": null,
   "metadata": {},
   "outputs": [],
   "source": []
  },
  {
   "cell_type": "code",
   "execution_count": null,
   "metadata": {},
   "outputs": [],
   "source": []
  },
  {
   "cell_type": "code",
   "execution_count": null,
   "metadata": {},
   "outputs": [],
   "source": []
  }
 ],
 "metadata": {
  "kernelspec": {
   "display_name": "Python 3",
   "language": "python",
   "name": "python3"
  },
  "language_info": {
   "codemirror_mode": {
    "name": "ipython",
    "version": 3
   },
   "file_extension": ".py",
   "mimetype": "text/x-python",
   "name": "python",
   "nbconvert_exporter": "python",
   "pygments_lexer": "ipython3",
   "version": "3.7.5"
  }
 },
 "nbformat": 4,
 "nbformat_minor": 4
}
